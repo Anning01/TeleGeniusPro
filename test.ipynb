{
 "cells": [
  {
   "cell_type": "markdown",
   "metadata": {},
   "source": [
    "## prompt test"
   ]
  },
  {
   "cell_type": "code",
   "execution_count": null,
   "metadata": {},
   "outputs": [],
   "source": [
    "\n",
    "from app.prompts.core import PromptsBuilder\n",
    "\n",
    "prompts_builder = PromptsBuilder()\n",
    "user_info ={\n",
    "    'age': '30', \n",
    "    'job': 'Information officer',\n",
    "    'email': 'tcole@example.org', \n",
    "    'gender': 'male', \n",
    "    'income': '42984', \n",
    "    'remark': 'On campaign bring situation.', \n",
    "    'country': 'Singapore', \n",
    "    'hobbies': 'music', \n",
    "    'user_id': '282804', \n",
    "    'username': 'garciabarbara', \n",
    "    'last_name': 'Kent', \n",
    "    'nick_name': 'Patrick Roberson', \n",
    "    'interested': 'married', \n",
    "    'mobile_phone': '545-272-8984x9521'\n",
    "    }\n",
    "\n",
    "with open('/home/yyj/TeleGeniusPro/app/prompts/docs/dataset.txt', 'r') as f:\n",
    "    product_info = f.read()\n",
    "product_summary = prompts_builder.summarize_product(product_info)\n",
    "with open('/home/yyj/TeleGeniusPro/app/prompts/docs/product_summary.txt', 'w') as f:\n",
    "    f.write(product_summary)\n",
    "# role_prompt = prompts_builder.select_role_prompt(product_summary, user_info)\n",
    "\n",
    "# final_prompt = prompts_builder.build_dialog_prompt(\n",
    "#     product_summary=product_summary,\n",
    "#     user_info=user_info,\n",
    "#     role_system_prompt=role_prompt\n",
    "# )\n",
    "# print(final_prompt)\n"
   ]
  },
  {
   "cell_type": "markdown",
   "metadata": {},
   "source": [
    "## rag test\n"
   ]
  },
  {
   "cell_type": "code",
   "execution_count": 7,
   "metadata": {},
   "outputs": [],
   "source": [
    "RAGFLOW_API_KEY = \"ragflow-FjZTU2MmEyMmJkMTExZjBiMWQ5MTI5ND\"\n",
    "RAGFLOW_BASE_URL = \"http://192.168.1.82:9380\"\n",
    "RAGFLOW_DATASET_ID = \"4662bd662fa811f0908f6e82d6a9704a\""
   ]
  },
  {
   "cell_type": "code",
   "execution_count": null,
   "metadata": {},
   "outputs": [],
   "source": [
    "from ragflow_sdk import RAGFlow\n",
    "\n",
    "rag = RAGFlow(api_key=RAGFLOW_API_KEY, base_url=RAGFLOW_BASE_URL)\n",
    "\n",
    "query = \"how can i apply pan card\"\n",
    "top_k = 5  \n",
    "\n",
    "chunks = rag.retrieve(\n",
    "    question=query,\n",
    "    dataset_ids=[RAGFLOW_DATASET_ID],\n",
    "    document_ids=None,         \n",
    "    page=1,\n",
    "    page_size=top_k,          \n",
    "    similarity_threshold=0.5,  \n",
    "    vector_similarity_weight=0.4, \n",
    "    top_k=top_k,               \n",
    "    keyword=True               \n",
    ")\n",
    "for i in chunks:\n",
    "    print(f\"AAA\\n{i.content}\")\n",
    "# rag_context = \"\\n\".join([c.content for c in chunks])\n",
    "# print(\"rag_context:\\n\", rag_context)"
   ]
  }
 ],
 "metadata": {
  "kernelspec": {
   "display_name": "tgpro",
   "language": "python",
   "name": "python3"
  },
  "language_info": {
   "codemirror_mode": {
    "name": "ipython",
    "version": 3
   },
   "file_extension": ".py",
   "mimetype": "text/x-python",
   "name": "python",
   "nbconvert_exporter": "python",
   "pygments_lexer": "ipython3",
   "version": "3.10.16"
  }
 },
 "nbformat": 4,
 "nbformat_minor": 2
}
